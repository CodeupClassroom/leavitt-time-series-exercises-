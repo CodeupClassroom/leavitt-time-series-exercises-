{
 "cells": [
  {
   "cell_type": "markdown",
   "id": "1ce14cf8",
   "metadata": {},
   "source": [
    "# Preparing Time Series Data"
   ]
  },
  {
   "cell_type": "markdown",
   "id": "97cab3c3",
   "metadata": {},
   "source": [
    "like most preparation processes, but now with dates!"
   ]
  },
  {
   "cell_type": "code",
   "execution_count": 1,
   "id": "8110fac3",
   "metadata": {},
   "outputs": [],
   "source": [
    "import pandas as pd\n",
    "import numpy as np\n",
    "\n",
    "import matplotlib.pyplot as plt\n",
    "import seaborn as sns\n",
    "\n",
    "import acquire"
   ]
  },
  {
   "cell_type": "markdown",
   "id": "6d52136f",
   "metadata": {},
   "source": [
    "## Acquire"
   ]
  },
  {
   "cell_type": "code",
   "execution_count": 2,
   "id": "8d2974b5",
   "metadata": {},
   "outputs": [],
   "source": [
    "#get my store data\n"
   ]
  },
  {
   "cell_type": "markdown",
   "id": "44eb3d35",
   "metadata": {},
   "source": [
    "### Summarize"
   ]
  },
  {
   "cell_type": "markdown",
   "id": "a23c8a62",
   "metadata": {},
   "source": [
    "- get a sense of our data - size, shape, datatypes\n",
    "- look for null values and address them \n",
    "- look at the shape of individual variables"
   ]
  },
  {
   "cell_type": "code",
   "execution_count": null,
   "id": "e1f91519",
   "metadata": {},
   "outputs": [],
   "source": []
  },
  {
   "cell_type": "code",
   "execution_count": null,
   "id": "2f012173",
   "metadata": {},
   "outputs": [],
   "source": []
  },
  {
   "cell_type": "code",
   "execution_count": null,
   "id": "cf7451b3",
   "metadata": {},
   "outputs": [],
   "source": []
  },
  {
   "cell_type": "code",
   "execution_count": null,
   "id": "989296c7",
   "metadata": {},
   "outputs": [],
   "source": []
  },
  {
   "cell_type": "markdown",
   "id": "f3006a5b",
   "metadata": {},
   "source": [
    "#### how many distinct stores, items, and sales?"
   ]
  },
  {
   "cell_type": "code",
   "execution_count": null,
   "id": "2dffe1e0",
   "metadata": {},
   "outputs": [],
   "source": []
  },
  {
   "cell_type": "code",
   "execution_count": null,
   "id": "bc7b346f",
   "metadata": {},
   "outputs": [],
   "source": []
  },
  {
   "cell_type": "code",
   "execution_count": null,
   "id": "3c90da00",
   "metadata": {},
   "outputs": [],
   "source": []
  },
  {
   "cell_type": "markdown",
   "id": "9d2077d0",
   "metadata": {},
   "source": [
    "#### Takeaways"
   ]
  },
  {
   "cell_type": "markdown",
   "id": "17b1f5b1",
   "metadata": {},
   "source": [
    "- 908k rows of data\n",
    "- have one date that is object type\n",
    "- no nulls\n",
    "- all stores in one city\n",
    "- handful of zip codes\n",
    "- range of sale_amount and item_price\n",
    "- im unsure what item_upcs are\n",
    "- overall, this dataframe is made up of sales dates and their associated item and store\n",
    "- each observation is a unique sale"
   ]
  },
  {
   "cell_type": "code",
   "execution_count": null,
   "id": "af4bbf23",
   "metadata": {},
   "outputs": [],
   "source": []
  },
  {
   "cell_type": "markdown",
   "id": "3942524a",
   "metadata": {},
   "source": [
    "## Prepare"
   ]
  },
  {
   "cell_type": "markdown",
   "id": "8e250ccc",
   "metadata": {},
   "source": [
    "for time series data: \n",
    "- we generally want to set our dates to datetime types\n",
    "- look at the frequency of the data \n",
    "- look for gaps in time or null values\n",
    "- as part of this, we'll investigate our data and figure out what each row represents and ask if that is what we want."
   ]
  },
  {
   "cell_type": "code",
   "execution_count": null,
   "id": "84713d72",
   "metadata": {},
   "outputs": [],
   "source": []
  },
  {
   "cell_type": "markdown",
   "id": "0dce2ffc",
   "metadata": {},
   "source": [
    "#### range of dates?"
   ]
  },
  {
   "cell_type": "code",
   "execution_count": null,
   "id": "a3989981",
   "metadata": {},
   "outputs": [],
   "source": []
  },
  {
   "cell_type": "code",
   "execution_count": null,
   "id": "ffa923b4",
   "metadata": {},
   "outputs": [],
   "source": []
  },
  {
   "cell_type": "markdown",
   "id": "d16a91b4",
   "metadata": {},
   "source": [
    "#### frequency of dates?"
   ]
  },
  {
   "cell_type": "code",
   "execution_count": null,
   "id": "d96490cf",
   "metadata": {},
   "outputs": [],
   "source": []
  },
  {
   "cell_type": "code",
   "execution_count": null,
   "id": "e45cec71",
   "metadata": {},
   "outputs": [],
   "source": []
  },
  {
   "cell_type": "markdown",
   "id": "0bb6f846",
   "metadata": {},
   "source": [
    "#### do all my dates contain gmt and 00:00:00?"
   ]
  },
  {
   "cell_type": "code",
   "execution_count": null,
   "id": "22fa8a14",
   "metadata": {},
   "outputs": [],
   "source": []
  },
  {
   "cell_type": "code",
   "execution_count": null,
   "id": "9ff50113",
   "metadata": {},
   "outputs": [],
   "source": []
  },
  {
   "cell_type": "code",
   "execution_count": null,
   "id": "4d29e609",
   "metadata": {},
   "outputs": [],
   "source": []
  },
  {
   "cell_type": "markdown",
   "id": "e2e6f1f4",
   "metadata": {},
   "source": [
    "### Process to working with datetimes\n",
    "\n",
    "1. Convert 'date/time' column to datetime object\n",
    "2. Set the datetime column as Index\n",
    "3. Sort the datetime index"
   ]
  },
  {
   "cell_type": "markdown",
   "id": "31007d19",
   "metadata": {},
   "source": [
    "#### 1. Convert 'date/time' column to datetime object"
   ]
  },
  {
   "cell_type": "markdown",
   "id": "58b0ded3",
   "metadata": {},
   "source": [
    "formatting info: https://docs.python.org/3/library/datetime.html#strftime-and-strptime-behavior"
   ]
  },
  {
   "cell_type": "code",
   "execution_count": null,
   "id": "aebf10cc",
   "metadata": {},
   "outputs": [],
   "source": []
  },
  {
   "cell_type": "code",
   "execution_count": null,
   "id": "8f3ddd98",
   "metadata": {},
   "outputs": [],
   "source": []
  },
  {
   "cell_type": "code",
   "execution_count": null,
   "id": "3e49c37d",
   "metadata": {},
   "outputs": [],
   "source": []
  },
  {
   "cell_type": "markdown",
   "id": "04ff7fa4",
   "metadata": {},
   "source": [
    "#### 2. Set the datetime column as Index"
   ]
  },
  {
   "cell_type": "code",
   "execution_count": null,
   "id": "fd054830",
   "metadata": {},
   "outputs": [],
   "source": []
  },
  {
   "cell_type": "code",
   "execution_count": null,
   "id": "47cd557d",
   "metadata": {},
   "outputs": [],
   "source": []
  },
  {
   "cell_type": "markdown",
   "id": "00ad64b6",
   "metadata": {},
   "source": [
    "#### 3. Sort the datetime index"
   ]
  },
  {
   "cell_type": "code",
   "execution_count": null,
   "id": "fb4a055d",
   "metadata": {},
   "outputs": [],
   "source": []
  },
  {
   "cell_type": "code",
   "execution_count": null,
   "id": "b14db435",
   "metadata": {},
   "outputs": [],
   "source": []
  },
  {
   "cell_type": "markdown",
   "id": "55c2c105",
   "metadata": {},
   "source": [
    "## Let's get to know our data a litte better"
   ]
  },
  {
   "cell_type": "markdown",
   "id": "366a1b22",
   "metadata": {},
   "source": [
    "- Currently, the dataframe has one row per sold item, but what if we need more or less granularity?\n",
    "- Let's consider what it means to define our observation in different ways.\n",
    "- We'll also look at different time-windows for our data."
   ]
  },
  {
   "cell_type": "markdown",
   "id": "0112fdb6",
   "metadata": {},
   "source": [
    "### Plot target variable over time"
   ]
  },
  {
   "cell_type": "markdown",
   "id": "263207bb",
   "metadata": {},
   "source": [
    "Target variable: sale_amount"
   ]
  },
  {
   "cell_type": "code",
   "execution_count": null,
   "id": "3a602cfb",
   "metadata": {},
   "outputs": [],
   "source": []
  },
  {
   "cell_type": "code",
   "execution_count": null,
   "id": "81a204aa",
   "metadata": {},
   "outputs": [],
   "source": [
    "# plt.figure(figsize=(10,6))\n",
    "\n",
    "# plt.title('sale amount over time')\n",
    "# plt.show()"
   ]
  },
  {
   "cell_type": "markdown",
   "id": "19bac2da",
   "metadata": {},
   "source": [
    "### Is each store equally represented in this dataset?"
   ]
  },
  {
   "cell_type": "code",
   "execution_count": null,
   "id": "db48971e",
   "metadata": {},
   "outputs": [],
   "source": []
  },
  {
   "cell_type": "markdown",
   "id": "092cc57f",
   "metadata": {},
   "source": [
    "### Is each item equally represented in this dataset?"
   ]
  },
  {
   "cell_type": "code",
   "execution_count": null,
   "id": "441da2eb",
   "metadata": {},
   "outputs": [],
   "source": []
  },
  {
   "cell_type": "markdown",
   "id": "1dcf00b6",
   "metadata": {},
   "source": [
    "### Let's look at stores + items"
   ]
  },
  {
   "cell_type": "markdown",
   "id": "0620e2e1",
   "metadata": {},
   "source": [
    "We will explore the data behind the unique combinations of store & item.M"
   ]
  },
  {
   "cell_type": "markdown",
   "id": "28b93754",
   "metadata": {},
   "source": [
    "#### what's the first sale date for each store/item combination?"
   ]
  },
  {
   "cell_type": "code",
   "execution_count": null,
   "id": "ef75b777",
   "metadata": {},
   "outputs": [],
   "source": []
  },
  {
   "cell_type": "code",
   "execution_count": null,
   "id": "98c19ee1",
   "metadata": {},
   "outputs": [],
   "source": []
  },
  {
   "cell_type": "markdown",
   "id": "aa14edfe",
   "metadata": {},
   "source": [
    "#### what's the last sale date for each store/item combination?"
   ]
  },
  {
   "cell_type": "code",
   "execution_count": null,
   "id": "cbfa60ae",
   "metadata": {},
   "outputs": [],
   "source": []
  },
  {
   "cell_type": "code",
   "execution_count": null,
   "id": "7ee7edf0",
   "metadata": {},
   "outputs": [],
   "source": []
  },
  {
   "cell_type": "markdown",
   "id": "c93217d5",
   "metadata": {},
   "source": [
    "#### how many different days were things sold for each store/item combination?"
   ]
  },
  {
   "cell_type": "code",
   "execution_count": null,
   "id": "a947db38",
   "metadata": {},
   "outputs": [],
   "source": []
  },
  {
   "cell_type": "markdown",
   "id": "45e423f9",
   "metadata": {},
   "source": [
    "> every store sold one of every item every day in this data's time span"
   ]
  },
  {
   "cell_type": "markdown",
   "id": "331c78cf",
   "metadata": {},
   "source": [
    "### Check for gaps in time"
   ]
  },
  {
   "cell_type": "code",
   "execution_count": null,
   "id": "7074d993",
   "metadata": {},
   "outputs": [],
   "source": []
  },
  {
   "cell_type": "code",
   "execution_count": null,
   "id": "f931f944",
   "metadata": {},
   "outputs": [],
   "source": []
  },
  {
   "cell_type": "code",
   "execution_count": null,
   "id": "ee4c0da7",
   "metadata": {},
   "outputs": [],
   "source": []
  },
  {
   "cell_type": "markdown",
   "id": "c72b7b16",
   "metadata": {},
   "source": [
    "> there are no gaps in time"
   ]
  },
  {
   "cell_type": "markdown",
   "id": "88900952",
   "metadata": {},
   "source": [
    "## Exploration"
   ]
  },
  {
   "cell_type": "markdown",
   "id": "a57caffe",
   "metadata": {},
   "source": [
    "How to split our data for time series?"
   ]
  },
  {
   "cell_type": "markdown",
   "id": "a3a02183",
   "metadata": {},
   "source": [
    "Ideally our split will contain a whole \"season\" of data. "
   ]
  },
  {
   "cell_type": "markdown",
   "id": "7f7195b6",
   "metadata": {},
   "source": [
    "To be investigated in the exploration lecture!"
   ]
  },
  {
   "cell_type": "code",
   "execution_count": null,
   "id": "1af05e23",
   "metadata": {},
   "outputs": [],
   "source": []
  }
 ],
 "metadata": {
  "kernelspec": {
   "display_name": "Python 3 (ipykernel)",
   "language": "python",
   "name": "python3"
  },
  "language_info": {
   "codemirror_mode": {
    "name": "ipython",
    "version": 3
   },
   "file_extension": ".py",
   "mimetype": "text/x-python",
   "name": "python",
   "nbconvert_exporter": "python",
   "pygments_lexer": "ipython3",
   "version": "3.9.12"
  }
 },
 "nbformat": 4,
 "nbformat_minor": 5
}
