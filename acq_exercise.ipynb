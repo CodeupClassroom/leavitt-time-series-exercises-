{
 "cells": [
  {
   "cell_type": "markdown",
   "id": "d022ed4a-81bc-4db1-a6b8-1eecefbb2105",
   "metadata": {},
   "source": [
    "## Goals this lesson and exercise set:\n",
    " - Understand how to interact with a programmatic PI for the sake of acquring data from web-based sources\n",
    " - In this case specifically, we want to obtain all of the information at the store data API that we began to examine in the lesson"
   ]
  },
  {
   "cell_type": "markdown",
   "id": "23a26616-3f2d-41fc-8dd4-17a0e5a57b44",
   "metadata": {},
   "source": [
    "### How we are going to go about doing that:\n",
    " - Interact and navigate with the API further\n",
    " - Utilize the requests library for interacting with the web pythonically\n",
    " - Cement the process of working with a looped structure to navigate and corroborate paginated data"
   ]
  },
  {
   "cell_type": "code",
   "execution_count": 1,
   "id": "88e5df39-1a5d-47ae-903d-5fad5d6fb0f9",
   "metadata": {},
   "outputs": [],
   "source": [
    "# basic imports\n",
    "import pandas as pd\n",
    "import requests"
   ]
  },
  {
   "cell_type": "code",
   "execution_count": 2,
   "id": "69376b32-c837-4be1-9180-d2a4eebafb9d",
   "metadata": {},
   "outputs": [],
   "source": [
    "url = 'https://python.zgulde.net/api/v1'"
   ]
  },
  {
   "cell_type": "code",
   "execution_count": 3,
   "id": "8eaf7eb5-a6ea-4c34-9840-3a649611dd8b",
   "metadata": {},
   "outputs": [],
   "source": [
    "# how do i interact with that? requests.get()\n",
    "response = requests.get(url)"
   ]
  },
  {
   "cell_type": "code",
   "execution_count": 4,
   "id": "a79664b8-4926-48e5-a9e2-2af92b8de11d",
   "metadata": {},
   "outputs": [
    {
     "data": {
      "text/plain": [
       "<Response [200]>"
      ]
     },
     "execution_count": 4,
     "metadata": {},
     "output_type": "execute_result"
    }
   ],
   "source": [
    "# response itself holds the HTTP response\n",
    "response"
   ]
  },
  {
   "cell_type": "code",
   "execution_count": 5,
   "id": "a37338bc-bd37-4853-aaa0-415967e4b1a5",
   "metadata": {},
   "outputs": [],
   "source": [
    "# to grab the content of the response, use .text or\n",
    "# .json() for RESTful API information that follows\n",
    "# the structure of what we anticipate"
   ]
  },
  {
   "cell_type": "code",
   "execution_count": 6,
   "id": "fb2f81f1-f288-4410-9390-975d0a58d43c",
   "metadata": {},
   "outputs": [
    {
     "data": {
      "text/plain": [
       "{'payload': {'routes': ['/stores',\n",
       "   '/stores/{store_id}',\n",
       "   '/items',\n",
       "   '/items/{item_id}',\n",
       "   '/sales',\n",
       "   '/sales/{sale_id}']},\n",
       " 'status': 'ok'}"
      ]
     },
     "execution_count": 6,
     "metadata": {},
     "output_type": "execute_result"
    }
   ],
   "source": [
    "# if we use that response.json():\n",
    "response.json()"
   ]
  },
  {
   "cell_type": "code",
   "execution_count": 7,
   "id": "6bd83f43-8b13-40bf-af58-76f99ba68752",
   "metadata": {},
   "outputs": [],
   "source": [
    "store_url = 'https://python.zgulde.net/api/v1/stores'"
   ]
  },
  {
   "cell_type": "code",
   "execution_count": 8,
   "id": "503d624f-e26b-4eb5-bcb4-745dc6a0bca7",
   "metadata": {},
   "outputs": [],
   "source": [
    "# put the contents of store_response into a variable\n",
    "store_response = requests.get(store_url).json()"
   ]
  },
  {
   "cell_type": "code",
   "execution_count": 9,
   "id": "5386bb73-0681-4d22-bb7c-4694b7ab0eeb",
   "metadata": {},
   "outputs": [
    {
     "data": {
      "text/plain": [
       "[{'store_address': '12125 Alamo Ranch Pkwy',\n",
       "  'store_city': 'San Antonio',\n",
       "  'store_id': 1,\n",
       "  'store_state': 'TX',\n",
       "  'store_zipcode': '78253'},\n",
       " {'store_address': '9255 FM 471 West',\n",
       "  'store_city': 'San Antonio',\n",
       "  'store_id': 2,\n",
       "  'store_state': 'TX',\n",
       "  'store_zipcode': '78251'},\n",
       " {'store_address': '2118 Fredericksburg Rdj',\n",
       "  'store_city': 'San Antonio',\n",
       "  'store_id': 3,\n",
       "  'store_state': 'TX',\n",
       "  'store_zipcode': '78201'}]"
      ]
     },
     "execution_count": 9,
     "metadata": {},
     "output_type": "execute_result"
    }
   ],
   "source": [
    "# inside of store_response i have a payload and a status\n",
    "# inside of the payload, I have store content as well as \n",
    "# information about the pagination of the information\n",
    "# I only have one page here, so let's store it as a\n",
    "# dataframe\n",
    "store_response['payload']['stores'][0:3]"
   ]
  },
  {
   "cell_type": "code",
   "execution_count": 10,
   "id": "dd0de455-1115-4148-a377-38eb7c885cf8",
   "metadata": {},
   "outputs": [],
   "source": [
    "store_df = store_response['payload']['stores']"
   ]
  },
  {
   "cell_type": "code",
   "execution_count": 11,
   "id": "f370b095-802f-4df1-b7fc-b2c8dff1e2a4",
   "metadata": {},
   "outputs": [
    {
     "data": {
      "text/plain": [
       "'https://python.zgulde.net/api/v1/stores'"
      ]
     },
     "execution_count": 11,
     "metadata": {},
     "output_type": "execute_result"
    }
   ],
   "source": [
    "store_url"
   ]
  },
  {
   "cell_type": "code",
   "execution_count": 12,
   "id": "47269fcf-cc68-4873-9943-f2a332479f35",
   "metadata": {},
   "outputs": [
    {
     "data": {
      "text/plain": [
       "'/items'"
      ]
     },
     "execution_count": 12,
     "metadata": {},
     "output_type": "execute_result"
    }
   ],
   "source": [
    "# if i wanted to grab a new endpoint from the initial payload I \n",
    "# could reference it as thus:\n",
    "requests.get(\n",
    "    'https://python.zgulde.net/api/v1').json(\n",
    ")['payload']['routes'][2]"
   ]
  },
  {
   "cell_type": "code",
   "execution_count": null,
   "id": "bc16c6e6-984c-4514-9b52-4a40d3cabb6a",
   "metadata": {},
   "outputs": [],
   "source": []
  },
  {
   "cell_type": "code",
   "execution_count": 13,
   "id": "5e74e0cb-5d02-43c2-a110-880f44bfb274",
   "metadata": {},
   "outputs": [],
   "source": [
    "# going forward, I need to grab items and sales"
   ]
  },
  {
   "cell_type": "code",
   "execution_count": 14,
   "id": "df9d6efc-055b-4ed8-a35d-98743402f588",
   "metadata": {},
   "outputs": [],
   "source": [
    "item_url = 'https://python.zgulde.net/api/v1/items'\n",
    "sales_url = 'https://python.zgulde.net/api/v1/sales'"
   ]
  },
  {
   "cell_type": "code",
   "execution_count": 15,
   "id": "1f944e9e-facd-4320-8b2a-65e908db25aa",
   "metadata": {},
   "outputs": [
    {
     "data": {
      "text/plain": [
       "'/api/v1/items?page=2'"
      ]
     },
     "execution_count": 15,
     "metadata": {},
     "output_type": "execute_result"
    }
   ],
   "source": [
    "# let's check out items:\n",
    "# looks like items actually has more than one page.\n",
    "# let's examine how to naviage that!\n",
    "requests.get(item_url).json()['payload']['next_page']"
   ]
  },
  {
   "cell_type": "code",
   "execution_count": 16,
   "id": "09314c9f-a3fa-4a3e-b5db-4e0b1bd0dde0",
   "metadata": {},
   "outputs": [],
   "source": [
    "# api/v1/items?page=2 represents a new endpoint.\n",
    "# how could we change that in the structure of a loop?"
   ]
  },
  {
   "cell_type": "code",
   "execution_count": 17,
   "id": "76008b14-34c9-4413-a018-eeb2c3bead85",
   "metadata": {},
   "outputs": [
    {
     "data": {
      "text/plain": [
       "'https://python.zgulde.net/api/v1/items'"
      ]
     },
     "execution_count": 17,
     "metadata": {},
     "output_type": "execute_result"
    }
   ],
   "source": [
    "item_url"
   ]
  },
  {
   "cell_type": "code",
   "execution_count": 18,
   "id": "8d95f48a-3aeb-429a-b66f-cd90dad12b81",
   "metadata": {},
   "outputs": [
    {
     "data": {
      "text/plain": [
       "3"
      ]
     },
     "execution_count": 18,
     "metadata": {},
     "output_type": "execute_result"
    }
   ],
   "source": [
    "requests.get(item_url).json()['payload']['max_page']"
   ]
  },
  {
   "cell_type": "code",
   "execution_count": 19,
   "id": "c7bd8ed7-f75c-4285-837c-694cf2fbb0a0",
   "metadata": {},
   "outputs": [
    {
     "data": {
      "text/plain": [
       "NoneType"
      ]
     },
     "execution_count": 19,
     "metadata": {},
     "output_type": "execute_result"
    }
   ],
   "source": [
    "# I think this is the structure, let's confirm:\n",
    "type(requests.get(\n",
    "    item_url+'?page=3').json(\n",
    ")['payload']['next_page'])"
   ]
  },
  {
   "cell_type": "markdown",
   "id": "151ece0c-8889-4e3c-9668-b858c24971f4",
   "metadata": {},
   "source": [
    "Takeaways here: the max page contains a key for the next page always, including on the max page, but when on the max page it leads to a Nonetype"
   ]
  },
  {
   "cell_type": "code",
   "execution_count": 20,
   "id": "a7f2b6bc-bdb3-480a-a698-9bd09bb6159d",
   "metadata": {},
   "outputs": [],
   "source": [
    "# two ways of corroborating this info:"
   ]
  },
  {
   "cell_type": "markdown",
   "id": "da393ea5-ce45-46c0-a1e0-df2725a58294",
   "metadata": {},
   "source": [
    "Way 1: create a while loop that runs until it its a next page key of None"
   ]
  },
  {
   "cell_type": "code",
   "execution_count": 21,
   "id": "7c3a9313-964a-44f4-a583-93b61f819648",
   "metadata": {},
   "outputs": [],
   "source": [
    "# requests.get(base_url+endpoint).json()"
   ]
  },
  {
   "cell_type": "code",
   "execution_count": 22,
   "id": "2201bd94-0b7e-48d1-81c4-6df227f308fe",
   "metadata": {},
   "outputs": [],
   "source": [
    "# let's get items with a while loop:\n",
    "# create a new base url for stores:\n",
    "# let's create a new base url and endpoint,\n",
    "# change the endpoint programmatically in the loop\n",
    "base_url = 'https://python.zgulde.net'\n",
    "endpoint = '/api/v1/items'\n",
    "# initialize an empty list\n",
    "items = []\n",
    "\n",
    "# make a while loop that does the thing \n",
    "# until its no longer true:\n",
    "\n",
    "while True:\n",
    "    url = base_url + endpoint\n",
    "    response = requests.get(url)\n",
    "    data = response.json()\n",
    "    # print(f'Getting page {data['payload']['page']} of {data['payload']['max_page']}: {url}', \n",
    "    #       end='')\n",
    "    items.extend(data['payload']['items'])\n",
    "    endpoint = data['payload']['next_page']\n",
    "    if endpoint is None:\n",
    "        break"
   ]
  },
  {
   "cell_type": "code",
   "execution_count": 23,
   "id": "3e5e6d32-83c8-4835-9ff8-f4fd4668501e",
   "metadata": {},
   "outputs": [],
   "source": [
    "items_df = pd.DataFrame(items)"
   ]
  },
  {
   "cell_type": "code",
   "execution_count": 24,
   "id": "aa836c2c-ead8-46a9-b990-1c121a0bc5c4",
   "metadata": {},
   "outputs": [],
   "source": [
    "store_df = pd.DataFrame(store_df)"
   ]
  },
  {
   "cell_type": "code",
   "execution_count": 25,
   "id": "fb3619d7-359f-4996-b4a9-580bd9717e82",
   "metadata": {},
   "outputs": [
    {
     "data": {
      "text/plain": [
       "Index(['item_brand', 'item_id', 'item_name', 'item_price', 'item_upc12',\n",
       "       'item_upc14'],\n",
       "      dtype='object')"
      ]
     },
     "execution_count": 25,
     "metadata": {},
     "output_type": "execute_result"
    }
   ],
   "source": [
    "items_df.columns"
   ]
  },
  {
   "cell_type": "code",
   "execution_count": 26,
   "id": "4930e028-103e-4316-9906-e55c844dfaed",
   "metadata": {},
   "outputs": [
    {
     "data": {
      "text/plain": [
       "Index(['store_address', 'store_city', 'store_id', 'store_state',\n",
       "       'store_zipcode'],\n",
       "      dtype='object')"
      ]
     },
     "execution_count": 26,
     "metadata": {},
     "output_type": "execute_result"
    }
   ],
   "source": [
    "store_df.columns"
   ]
  },
  {
   "cell_type": "code",
   "execution_count": 27,
   "id": "2f91ff15-8e4f-435a-93ab-a82d4ca8c3c1",
   "metadata": {},
   "outputs": [
    {
     "data": {
      "text/html": [
       "<div>\n",
       "<style scoped>\n",
       "    .dataframe tbody tr th:only-of-type {\n",
       "        vertical-align: middle;\n",
       "    }\n",
       "\n",
       "    .dataframe tbody tr th {\n",
       "        vertical-align: top;\n",
       "    }\n",
       "\n",
       "    .dataframe thead th {\n",
       "        text-align: right;\n",
       "    }\n",
       "</style>\n",
       "<table border=\"1\" class=\"dataframe\">\n",
       "  <thead>\n",
       "    <tr style=\"text-align: right;\">\n",
       "      <th></th>\n",
       "      <th>store_address</th>\n",
       "      <th>store_city</th>\n",
       "      <th>store_id</th>\n",
       "      <th>store_state</th>\n",
       "      <th>store_zipcode</th>\n",
       "    </tr>\n",
       "  </thead>\n",
       "  <tbody>\n",
       "    <tr>\n",
       "      <th>0</th>\n",
       "      <td>12125 Alamo Ranch Pkwy</td>\n",
       "      <td>San Antonio</td>\n",
       "      <td>1</td>\n",
       "      <td>TX</td>\n",
       "      <td>78253</td>\n",
       "    </tr>\n",
       "    <tr>\n",
       "      <th>1</th>\n",
       "      <td>9255 FM 471 West</td>\n",
       "      <td>San Antonio</td>\n",
       "      <td>2</td>\n",
       "      <td>TX</td>\n",
       "      <td>78251</td>\n",
       "    </tr>\n",
       "    <tr>\n",
       "      <th>2</th>\n",
       "      <td>2118 Fredericksburg Rdj</td>\n",
       "      <td>San Antonio</td>\n",
       "      <td>3</td>\n",
       "      <td>TX</td>\n",
       "      <td>78201</td>\n",
       "    </tr>\n",
       "    <tr>\n",
       "      <th>3</th>\n",
       "      <td>516 S Flores St</td>\n",
       "      <td>San Antonio</td>\n",
       "      <td>4</td>\n",
       "      <td>TX</td>\n",
       "      <td>78204</td>\n",
       "    </tr>\n",
       "    <tr>\n",
       "      <th>4</th>\n",
       "      <td>1520 Austin Hwy</td>\n",
       "      <td>San Antonio</td>\n",
       "      <td>5</td>\n",
       "      <td>TX</td>\n",
       "      <td>78218</td>\n",
       "    </tr>\n",
       "  </tbody>\n",
       "</table>\n",
       "</div>"
      ],
      "text/plain": [
       "             store_address   store_city  store_id store_state store_zipcode\n",
       "0   12125 Alamo Ranch Pkwy  San Antonio         1          TX         78253\n",
       "1         9255 FM 471 West  San Antonio         2          TX         78251\n",
       "2  2118 Fredericksburg Rdj  San Antonio         3          TX         78201\n",
       "3          516 S Flores St  San Antonio         4          TX         78204\n",
       "4          1520 Austin Hwy  San Antonio         5          TX         78218"
      ]
     },
     "execution_count": 27,
     "metadata": {},
     "output_type": "execute_result"
    }
   ],
   "source": [
    "store_df.head()"
   ]
  },
  {
   "cell_type": "raw",
   "id": "3be21425-2e43-4d7c-8681-0b298672b715",
   "metadata": {},
   "source": []
  },
  {
   "cell_type": "markdown",
   "id": "8dec9186-d0c2-44fe-9e6c-e5a8f802aeeb",
   "metadata": {},
   "source": [
    "Way 2: I have a max page key immediately in my payload -- I can create a for loop that runs through the information with a range"
   ]
  },
  {
   "cell_type": "code",
   "execution_count": 28,
   "id": "222d38fd-3059-465f-a2ba-d4be3467bbc9",
   "metadata": {},
   "outputs": [
    {
     "data": {
      "text/plain": [
       "'https://python.zgulde.net'"
      ]
     },
     "execution_count": 28,
     "metadata": {},
     "output_type": "execute_result"
    }
   ],
   "source": [
    "base_url"
   ]
  },
  {
   "cell_type": "code",
   "execution_count": 29,
   "id": "637453e4-6278-4970-beae-35e33b3c7adc",
   "metadata": {},
   "outputs": [
    {
     "data": {
      "text/plain": [
       "'https://python.zgulde.net/api/v1/sales'"
      ]
     },
     "execution_count": 29,
     "metadata": {},
     "output_type": "execute_result"
    }
   ],
   "source": [
    "# let's examine sales for a proper endpoint:\n",
    "sales_url"
   ]
  },
  {
   "cell_type": "code",
   "execution_count": 30,
   "id": "036ca04c-8722-440d-b816-fc3610a1b385",
   "metadata": {},
   "outputs": [
    {
     "data": {
      "text/plain": [
       "dict_keys(['max_page', 'next_page', 'page', 'previous_page', 'sales'])"
      ]
     },
     "execution_count": 30,
     "metadata": {},
     "output_type": "execute_result"
    }
   ],
   "source": [
    "requests.get(sales_url).json()['payload'].keys()"
   ]
  },
  {
   "cell_type": "code",
   "execution_count": 31,
   "id": "c792f1f9-9d81-4c04-9de0-85ae24c5c2f6",
   "metadata": {},
   "outputs": [
    {
     "data": {
      "text/plain": [
       "183"
      ]
     },
     "execution_count": 31,
     "metadata": {},
     "output_type": "execute_result"
    }
   ],
   "source": [
    "requests.get(sales_url).json()['payload']['max_page']"
   ]
  },
  {
   "cell_type": "code",
   "execution_count": 32,
   "id": "3d8d9e7d-0059-4ed8-8c78-c2f1c309b7a8",
   "metadata": {},
   "outputs": [
    {
     "data": {
      "text/plain": [
       "'/api/v1/sales?page=2'"
      ]
     },
     "execution_count": 32,
     "metadata": {},
     "output_type": "execute_result"
    }
   ],
   "source": [
    "requests.get(sales_url).json()['payload']['next_page']"
   ]
  },
  {
   "cell_type": "code",
   "execution_count": 33,
   "id": "cba544d8-58bd-410e-a721-c44972139558",
   "metadata": {},
   "outputs": [],
   "source": [
    "base_url = 'https://python.zgulde.net/api/v1/sales?page='\n",
    "endpoint = '1'"
   ]
  },
  {
   "cell_type": "code",
   "execution_count": 34,
   "id": "166b6757-8b15-437b-8f27-22efcafe5d1a",
   "metadata": {},
   "outputs": [
    {
     "data": {
      "text/plain": [
       "[{'item': 50,\n",
       "  'sale_amount': 77.0,\n",
       "  'sale_date': 'Wed, 15 Oct 2014 00:00:00 GMT',\n",
       "  'sale_id': 910001,\n",
       "  'store': 9},\n",
       " {'item': 50,\n",
       "  'sale_amount': 52.0,\n",
       "  'sale_date': 'Thu, 16 Oct 2014 00:00:00 GMT',\n",
       "  'sale_id': 910002,\n",
       "  'store': 9},\n",
       " {'item': 50,\n",
       "  'sale_amount': 65.0,\n",
       "  'sale_date': 'Fri, 17 Oct 2014 00:00:00 GMT',\n",
       "  'sale_id': 910003,\n",
       "  'store': 9}]"
      ]
     },
     "execution_count": 34,
     "metadata": {},
     "output_type": "execute_result"
    }
   ],
   "source": [
    "requests.get(base_url+'183').json()['payload']['sales'][:3]"
   ]
  },
  {
   "cell_type": "code",
   "execution_count": 35,
   "id": "eb44414a-5507-41f2-bd90-573246abea94",
   "metadata": {},
   "outputs": [
    {
     "name": "stdout",
     "output_type": "stream",
     "text": [
      "1\n",
      "2\n",
      "3\n",
      "4\n"
     ]
    }
   ],
   "source": [
    "for n in range(1,5):\n",
    "    print(n)"
   ]
  },
  {
   "cell_type": "code",
   "execution_count": 36,
   "id": "113229fd-45ed-4cc8-86b3-b084e6bf8ec3",
   "metadata": {
    "tags": []
   },
   "outputs": [],
   "source": [
    "# approach #2 with sales:\n",
    "# make a for loop, only change the number based on\n",
    "# what we get in the max page:\n",
    "# base_url = 'https://python.zgulde.net/api/v1/sales?page='\n",
    "# sales = []\n",
    "# for page_no in range(1,184):\n",
    "#     endpoint = str(page_no)\n",
    "#     response = requests.get(\n",
    "#         base_url+endpoint).json()['payload']['sales']\n",
    "#     print(f'Getting page {endpoint} of 183', end='')\n",
    "#     sales.extend(response)"
   ]
  },
  {
   "cell_type": "code",
   "execution_count": null,
   "id": "4fd251f5-e0ed-4157-95ab-1b12b5a2e461",
   "metadata": {},
   "outputs": [],
   "source": [
    "# sales_df = pd.Dataframe(sales)"
   ]
  },
  {
   "cell_type": "code",
   "execution_count": 37,
   "id": "b60c2d1a-16cb-41dd-b3c0-c458b74fda5d",
   "metadata": {},
   "outputs": [],
   "source": [
    "# save a little time for the review by reading in a cached\n",
    "sales = pd.read_csv('sales.csv')"
   ]
  },
  {
   "cell_type": "code",
   "execution_count": 38,
   "id": "d6b4a7af-d1d6-4388-ace8-9158ff596013",
   "metadata": {},
   "outputs": [
    {
     "data": {
      "text/html": [
       "<div>\n",
       "<style scoped>\n",
       "    .dataframe tbody tr th:only-of-type {\n",
       "        vertical-align: middle;\n",
       "    }\n",
       "\n",
       "    .dataframe tbody tr th {\n",
       "        vertical-align: top;\n",
       "    }\n",
       "\n",
       "    .dataframe thead th {\n",
       "        text-align: right;\n",
       "    }\n",
       "</style>\n",
       "<table border=\"1\" class=\"dataframe\">\n",
       "  <thead>\n",
       "    <tr style=\"text-align: right;\">\n",
       "      <th></th>\n",
       "      <th>item</th>\n",
       "      <th>sale_amount</th>\n",
       "      <th>sale_date</th>\n",
       "      <th>sale_id</th>\n",
       "      <th>store</th>\n",
       "    </tr>\n",
       "  </thead>\n",
       "  <tbody>\n",
       "    <tr>\n",
       "      <th>0</th>\n",
       "      <td>1</td>\n",
       "      <td>13.0</td>\n",
       "      <td>Tue, 01 Jan 2013 00:00:00 GMT</td>\n",
       "      <td>1</td>\n",
       "      <td>1</td>\n",
       "    </tr>\n",
       "    <tr>\n",
       "      <th>1</th>\n",
       "      <td>1</td>\n",
       "      <td>11.0</td>\n",
       "      <td>Wed, 02 Jan 2013 00:00:00 GMT</td>\n",
       "      <td>2</td>\n",
       "      <td>1</td>\n",
       "    </tr>\n",
       "    <tr>\n",
       "      <th>2</th>\n",
       "      <td>1</td>\n",
       "      <td>14.0</td>\n",
       "      <td>Thu, 03 Jan 2013 00:00:00 GMT</td>\n",
       "      <td>3</td>\n",
       "      <td>1</td>\n",
       "    </tr>\n",
       "    <tr>\n",
       "      <th>3</th>\n",
       "      <td>1</td>\n",
       "      <td>13.0</td>\n",
       "      <td>Fri, 04 Jan 2013 00:00:00 GMT</td>\n",
       "      <td>4</td>\n",
       "      <td>1</td>\n",
       "    </tr>\n",
       "    <tr>\n",
       "      <th>4</th>\n",
       "      <td>1</td>\n",
       "      <td>10.0</td>\n",
       "      <td>Sat, 05 Jan 2013 00:00:00 GMT</td>\n",
       "      <td>5</td>\n",
       "      <td>1</td>\n",
       "    </tr>\n",
       "  </tbody>\n",
       "</table>\n",
       "</div>"
      ],
      "text/plain": [
       "   item  sale_amount                      sale_date  sale_id  store\n",
       "0     1         13.0  Tue, 01 Jan 2013 00:00:00 GMT        1      1\n",
       "1     1         11.0  Wed, 02 Jan 2013 00:00:00 GMT        2      1\n",
       "2     1         14.0  Thu, 03 Jan 2013 00:00:00 GMT        3      1\n",
       "3     1         13.0  Fri, 04 Jan 2013 00:00:00 GMT        4      1\n",
       "4     1         10.0  Sat, 05 Jan 2013 00:00:00 GMT        5      1"
      ]
     },
     "execution_count": 38,
     "metadata": {},
     "output_type": "execute_result"
    }
   ],
   "source": [
    "sales.head()"
   ]
  },
  {
   "cell_type": "code",
   "execution_count": 39,
   "id": "cd1e6923-4c1d-48ad-9e2d-84669f3f72eb",
   "metadata": {},
   "outputs": [
    {
     "data": {
      "text/plain": [
       "Index(['item', 'sale_amount', 'sale_date', 'sale_id', 'store'], dtype='object')"
      ]
     },
     "execution_count": 39,
     "metadata": {},
     "output_type": "execute_result"
    }
   ],
   "source": [
    "sales.columns"
   ]
  },
  {
   "cell_type": "code",
   "execution_count": 43,
   "id": "c7af7309-0e8b-425d-b05c-73fe2837c9af",
   "metadata": {},
   "outputs": [
    {
     "data": {
      "text/plain": [
       "(50, 6)"
      ]
     },
     "execution_count": 43,
     "metadata": {},
     "output_type": "execute_result"
    }
   ],
   "source": [
    "items_df.shape"
   ]
  },
  {
   "cell_type": "code",
   "execution_count": 46,
   "id": "7e8a32e4-7ab0-4f9b-a8be-e854c09fb29a",
   "metadata": {},
   "outputs": [
    {
     "data": {
      "text/html": [
       "<div>\n",
       "<style scoped>\n",
       "    .dataframe tbody tr th:only-of-type {\n",
       "        vertical-align: middle;\n",
       "    }\n",
       "\n",
       "    .dataframe tbody tr th {\n",
       "        vertical-align: top;\n",
       "    }\n",
       "\n",
       "    .dataframe thead th {\n",
       "        text-align: right;\n",
       "    }\n",
       "</style>\n",
       "<table border=\"1\" class=\"dataframe\">\n",
       "  <thead>\n",
       "    <tr style=\"text-align: right;\">\n",
       "      <th></th>\n",
       "      <th>item</th>\n",
       "      <th>sale_amount</th>\n",
       "      <th>sale_date</th>\n",
       "      <th>sale_id</th>\n",
       "      <th>store</th>\n",
       "    </tr>\n",
       "  </thead>\n",
       "  <tbody>\n",
       "    <tr>\n",
       "      <th>0</th>\n",
       "      <td>1</td>\n",
       "      <td>13.0</td>\n",
       "      <td>Tue, 01 Jan 2013 00:00:00 GMT</td>\n",
       "      <td>1</td>\n",
       "      <td>1</td>\n",
       "    </tr>\n",
       "    <tr>\n",
       "      <th>1</th>\n",
       "      <td>1</td>\n",
       "      <td>11.0</td>\n",
       "      <td>Wed, 02 Jan 2013 00:00:00 GMT</td>\n",
       "      <td>2</td>\n",
       "      <td>1</td>\n",
       "    </tr>\n",
       "  </tbody>\n",
       "</table>\n",
       "</div>"
      ],
      "text/plain": [
       "   item  sale_amount                      sale_date  sale_id  store\n",
       "0     1         13.0  Tue, 01 Jan 2013 00:00:00 GMT        1      1\n",
       "1     1         11.0  Wed, 02 Jan 2013 00:00:00 GMT        2      1"
      ]
     },
     "execution_count": 46,
     "metadata": {},
     "output_type": "execute_result"
    }
   ],
   "source": [
    "sales.head(2)"
   ]
  },
  {
   "cell_type": "code",
   "execution_count": 45,
   "id": "af901d0d-da36-4e56-a84e-1065502f2e2f",
   "metadata": {},
   "outputs": [
    {
     "data": {
      "text/html": [
       "<div>\n",
       "<style scoped>\n",
       "    .dataframe tbody tr th:only-of-type {\n",
       "        vertical-align: middle;\n",
       "    }\n",
       "\n",
       "    .dataframe tbody tr th {\n",
       "        vertical-align: top;\n",
       "    }\n",
       "\n",
       "    .dataframe thead th {\n",
       "        text-align: right;\n",
       "    }\n",
       "</style>\n",
       "<table border=\"1\" class=\"dataframe\">\n",
       "  <thead>\n",
       "    <tr style=\"text-align: right;\">\n",
       "      <th></th>\n",
       "      <th>item_brand</th>\n",
       "      <th>item_id</th>\n",
       "      <th>item_name</th>\n",
       "      <th>item_price</th>\n",
       "      <th>item_upc12</th>\n",
       "      <th>item_upc14</th>\n",
       "    </tr>\n",
       "  </thead>\n",
       "  <tbody>\n",
       "    <tr>\n",
       "      <th>0</th>\n",
       "      <td>Riceland</td>\n",
       "      <td>1</td>\n",
       "      <td>Riceland American Jazmine Rice</td>\n",
       "      <td>0.84</td>\n",
       "      <td>35200264013</td>\n",
       "      <td>35200264013</td>\n",
       "    </tr>\n",
       "    <tr>\n",
       "      <th>1</th>\n",
       "      <td>Caress</td>\n",
       "      <td>2</td>\n",
       "      <td>Caress Velvet Bliss Ultra Silkening Beauty Bar...</td>\n",
       "      <td>6.44</td>\n",
       "      <td>11111065925</td>\n",
       "      <td>11111065925</td>\n",
       "    </tr>\n",
       "  </tbody>\n",
       "</table>\n",
       "</div>"
      ],
      "text/plain": [
       "  item_brand  item_id                                          item_name  \\\n",
       "0   Riceland        1                     Riceland American Jazmine Rice   \n",
       "1     Caress        2  Caress Velvet Bliss Ultra Silkening Beauty Bar...   \n",
       "\n",
       "   item_price   item_upc12   item_upc14  \n",
       "0        0.84  35200264013  35200264013  \n",
       "1        6.44  11111065925  11111065925  "
      ]
     },
     "execution_count": 45,
     "metadata": {},
     "output_type": "execute_result"
    }
   ],
   "source": [
    "items_df.head(2)"
   ]
  },
  {
   "cell_type": "code",
   "execution_count": 41,
   "id": "73b1ea06-9fea-4203-865c-dfa0ba7c8abf",
   "metadata": {},
   "outputs": [
    {
     "data": {
      "text/plain": [
       "50"
      ]
     },
     "execution_count": 41,
     "metadata": {},
     "output_type": "execute_result"
    }
   ],
   "source": [
    "sales.item.nunique()"
   ]
  },
  {
   "cell_type": "code",
   "execution_count": 51,
   "id": "9b7f5ce5-32c5-4792-af07-e78d48cde2f2",
   "metadata": {},
   "outputs": [
    {
     "data": {
      "text/plain": [
       "True"
      ]
     },
     "execution_count": 51,
     "metadata": {},
     "output_type": "execute_result"
    }
   ],
   "source": [
    "sales.store.nunique() == store_df.store_id.nunique()"
   ]
  },
  {
   "cell_type": "code",
   "execution_count": 48,
   "id": "08cbe9c5-c8d4-4a93-bc0e-d71402969c4d",
   "metadata": {},
   "outputs": [
    {
     "data": {
      "text/plain": [
       "(10, 5)"
      ]
     },
     "execution_count": 48,
     "metadata": {},
     "output_type": "execute_result"
    }
   ],
   "source": [
    "store_df.shape"
   ]
  },
  {
   "cell_type": "code",
   "execution_count": 52,
   "id": "efba0b73-297b-4a69-a147-a500c801f713",
   "metadata": {},
   "outputs": [],
   "source": [
    "sales = sales.rename(columns={'item': 'item_id', 'store': 'store_id'})"
   ]
  },
  {
   "cell_type": "code",
   "execution_count": 53,
   "id": "2a4a6ca6-4377-4709-9d87-499b188d352c",
   "metadata": {},
   "outputs": [
    {
     "data": {
      "text/plain": [
       "Index(['item_id', 'sale_amount', 'sale_date', 'sale_id', 'store_id'], dtype='object')"
      ]
     },
     "execution_count": 53,
     "metadata": {},
     "output_type": "execute_result"
    }
   ],
   "source": [
    "# sanity check for my rename:\n",
    "sales.columns"
   ]
  },
  {
   "cell_type": "code",
   "execution_count": 54,
   "id": "c01b5de6-92f5-4d47-9ca3-bd2530016b1c",
   "metadata": {},
   "outputs": [
    {
     "data": {
      "text/plain": [
       "(913000, 5)"
      ]
     },
     "execution_count": 54,
     "metadata": {},
     "output_type": "execute_result"
    }
   ],
   "source": [
    "sales.shape"
   ]
  },
  {
   "cell_type": "code",
   "execution_count": 57,
   "id": "275cfda8-60d3-4083-a94f-2a94298622d2",
   "metadata": {},
   "outputs": [
    {
     "data": {
      "text/plain": [
       "pandas.core.frame.DataFrame"
      ]
     },
     "execution_count": 57,
     "metadata": {},
     "output_type": "execute_result"
    }
   ],
   "source": [
    "type(sales)"
   ]
  },
  {
   "cell_type": "code",
   "execution_count": 58,
   "id": "e270d922-4d60-4d79-8c40-7dcae0203676",
   "metadata": {},
   "outputs": [
    {
     "data": {
      "text/plain": [
       "pandas.core.frame.DataFrame"
      ]
     },
     "execution_count": 58,
     "metadata": {},
     "output_type": "execute_result"
    }
   ],
   "source": [
    "type(items_df)"
   ]
  },
  {
   "cell_type": "code",
   "execution_count": null,
   "id": "a11f9aed-66c6-4d9a-9e38-f645b6f7bdd4",
   "metadata": {},
   "outputs": [],
   "source": [
    "# use more consistent names than i did probably -_-"
   ]
  },
  {
   "cell_type": "code",
   "execution_count": 59,
   "id": "50bf2c2c-af57-4be9-a86c-6a00730b0888",
   "metadata": {},
   "outputs": [],
   "source": [
    "df = pd.merge(sales, items_df, how='left', on='item_id')"
   ]
  },
  {
   "cell_type": "code",
   "execution_count": 62,
   "id": "02b241e4-aa16-4c8e-a60b-c3cb0ca73a3b",
   "metadata": {},
   "outputs": [
    {
     "data": {
      "text/plain": [
       "(913000, 10)"
      ]
     },
     "execution_count": 62,
     "metadata": {},
     "output_type": "execute_result"
    }
   ],
   "source": [
    "df.shape"
   ]
  },
  {
   "cell_type": "code",
   "execution_count": 63,
   "id": "d3141eb9-ee71-4a16-8357-3c5caccf91ce",
   "metadata": {},
   "outputs": [
    {
     "data": {
      "text/plain": [
       "pandas.core.frame.DataFrame"
      ]
     },
     "execution_count": 63,
     "metadata": {},
     "output_type": "execute_result"
    }
   ],
   "source": [
    "type(store_df)"
   ]
  },
  {
   "cell_type": "code",
   "execution_count": 64,
   "id": "81122877-15dd-406f-8fe0-47987fbeb72c",
   "metadata": {},
   "outputs": [],
   "source": [
    "df = pd.merge(df, store_df, how='left', on='store_id')"
   ]
  },
  {
   "cell_type": "code",
   "execution_count": 65,
   "id": "6518770e-4d7e-4721-b81f-fa1b235eede7",
   "metadata": {},
   "outputs": [
    {
     "data": {
      "text/plain": [
       "Index(['item_id', 'sale_amount', 'sale_date', 'sale_id', 'store_id',\n",
       "       'item_brand', 'item_name', 'item_price', 'item_upc12', 'item_upc14',\n",
       "       'store_address', 'store_city', 'store_state', 'store_zipcode'],\n",
       "      dtype='object')"
      ]
     },
     "execution_count": 65,
     "metadata": {},
     "output_type": "execute_result"
    }
   ],
   "source": [
    "df.columns"
   ]
  },
  {
   "cell_type": "code",
   "execution_count": 66,
   "id": "74448036-2428-48f0-a4ff-f55f910aeb3e",
   "metadata": {},
   "outputs": [
    {
     "data": {
      "text/html": [
       "<div>\n",
       "<style scoped>\n",
       "    .dataframe tbody tr th:only-of-type {\n",
       "        vertical-align: middle;\n",
       "    }\n",
       "\n",
       "    .dataframe tbody tr th {\n",
       "        vertical-align: top;\n",
       "    }\n",
       "\n",
       "    .dataframe thead th {\n",
       "        text-align: right;\n",
       "    }\n",
       "</style>\n",
       "<table border=\"1\" class=\"dataframe\">\n",
       "  <thead>\n",
       "    <tr style=\"text-align: right;\">\n",
       "      <th></th>\n",
       "      <th>item_id</th>\n",
       "      <th>sale_amount</th>\n",
       "      <th>sale_date</th>\n",
       "      <th>sale_id</th>\n",
       "      <th>store_id</th>\n",
       "      <th>item_brand</th>\n",
       "      <th>item_name</th>\n",
       "      <th>item_price</th>\n",
       "      <th>item_upc12</th>\n",
       "      <th>item_upc14</th>\n",
       "      <th>store_address</th>\n",
       "      <th>store_city</th>\n",
       "      <th>store_state</th>\n",
       "      <th>store_zipcode</th>\n",
       "    </tr>\n",
       "  </thead>\n",
       "  <tbody>\n",
       "    <tr>\n",
       "      <th>0</th>\n",
       "      <td>1</td>\n",
       "      <td>13.0</td>\n",
       "      <td>Tue, 01 Jan 2013 00:00:00 GMT</td>\n",
       "      <td>1</td>\n",
       "      <td>1</td>\n",
       "      <td>Riceland</td>\n",
       "      <td>Riceland American Jazmine Rice</td>\n",
       "      <td>0.84</td>\n",
       "      <td>35200264013</td>\n",
       "      <td>35200264013</td>\n",
       "      <td>12125 Alamo Ranch Pkwy</td>\n",
       "      <td>San Antonio</td>\n",
       "      <td>TX</td>\n",
       "      <td>78253</td>\n",
       "    </tr>\n",
       "    <tr>\n",
       "      <th>1</th>\n",
       "      <td>1</td>\n",
       "      <td>11.0</td>\n",
       "      <td>Wed, 02 Jan 2013 00:00:00 GMT</td>\n",
       "      <td>2</td>\n",
       "      <td>1</td>\n",
       "      <td>Riceland</td>\n",
       "      <td>Riceland American Jazmine Rice</td>\n",
       "      <td>0.84</td>\n",
       "      <td>35200264013</td>\n",
       "      <td>35200264013</td>\n",
       "      <td>12125 Alamo Ranch Pkwy</td>\n",
       "      <td>San Antonio</td>\n",
       "      <td>TX</td>\n",
       "      <td>78253</td>\n",
       "    </tr>\n",
       "    <tr>\n",
       "      <th>2</th>\n",
       "      <td>1</td>\n",
       "      <td>14.0</td>\n",
       "      <td>Thu, 03 Jan 2013 00:00:00 GMT</td>\n",
       "      <td>3</td>\n",
       "      <td>1</td>\n",
       "      <td>Riceland</td>\n",
       "      <td>Riceland American Jazmine Rice</td>\n",
       "      <td>0.84</td>\n",
       "      <td>35200264013</td>\n",
       "      <td>35200264013</td>\n",
       "      <td>12125 Alamo Ranch Pkwy</td>\n",
       "      <td>San Antonio</td>\n",
       "      <td>TX</td>\n",
       "      <td>78253</td>\n",
       "    </tr>\n",
       "    <tr>\n",
       "      <th>3</th>\n",
       "      <td>1</td>\n",
       "      <td>13.0</td>\n",
       "      <td>Fri, 04 Jan 2013 00:00:00 GMT</td>\n",
       "      <td>4</td>\n",
       "      <td>1</td>\n",
       "      <td>Riceland</td>\n",
       "      <td>Riceland American Jazmine Rice</td>\n",
       "      <td>0.84</td>\n",
       "      <td>35200264013</td>\n",
       "      <td>35200264013</td>\n",
       "      <td>12125 Alamo Ranch Pkwy</td>\n",
       "      <td>San Antonio</td>\n",
       "      <td>TX</td>\n",
       "      <td>78253</td>\n",
       "    </tr>\n",
       "    <tr>\n",
       "      <th>4</th>\n",
       "      <td>1</td>\n",
       "      <td>10.0</td>\n",
       "      <td>Sat, 05 Jan 2013 00:00:00 GMT</td>\n",
       "      <td>5</td>\n",
       "      <td>1</td>\n",
       "      <td>Riceland</td>\n",
       "      <td>Riceland American Jazmine Rice</td>\n",
       "      <td>0.84</td>\n",
       "      <td>35200264013</td>\n",
       "      <td>35200264013</td>\n",
       "      <td>12125 Alamo Ranch Pkwy</td>\n",
       "      <td>San Antonio</td>\n",
       "      <td>TX</td>\n",
       "      <td>78253</td>\n",
       "    </tr>\n",
       "  </tbody>\n",
       "</table>\n",
       "</div>"
      ],
      "text/plain": [
       "   item_id  sale_amount                      sale_date  sale_id  store_id  \\\n",
       "0        1         13.0  Tue, 01 Jan 2013 00:00:00 GMT        1         1   \n",
       "1        1         11.0  Wed, 02 Jan 2013 00:00:00 GMT        2         1   \n",
       "2        1         14.0  Thu, 03 Jan 2013 00:00:00 GMT        3         1   \n",
       "3        1         13.0  Fri, 04 Jan 2013 00:00:00 GMT        4         1   \n",
       "4        1         10.0  Sat, 05 Jan 2013 00:00:00 GMT        5         1   \n",
       "\n",
       "  item_brand                       item_name  item_price   item_upc12  \\\n",
       "0   Riceland  Riceland American Jazmine Rice        0.84  35200264013   \n",
       "1   Riceland  Riceland American Jazmine Rice        0.84  35200264013   \n",
       "2   Riceland  Riceland American Jazmine Rice        0.84  35200264013   \n",
       "3   Riceland  Riceland American Jazmine Rice        0.84  35200264013   \n",
       "4   Riceland  Riceland American Jazmine Rice        0.84  35200264013   \n",
       "\n",
       "    item_upc14           store_address   store_city store_state store_zipcode  \n",
       "0  35200264013  12125 Alamo Ranch Pkwy  San Antonio          TX         78253  \n",
       "1  35200264013  12125 Alamo Ranch Pkwy  San Antonio          TX         78253  \n",
       "2  35200264013  12125 Alamo Ranch Pkwy  San Antonio          TX         78253  \n",
       "3  35200264013  12125 Alamo Ranch Pkwy  San Antonio          TX         78253  \n",
       "4  35200264013  12125 Alamo Ranch Pkwy  San Antonio          TX         78253  "
      ]
     },
     "execution_count": 66,
     "metadata": {},
     "output_type": "execute_result"
    }
   ],
   "source": [
    "df.head()"
   ]
  },
  {
   "cell_type": "code",
   "execution_count": null,
   "id": "b7ee19b7-05a0-4d2e-9c07-45445badc835",
   "metadata": {},
   "outputs": [],
   "source": []
  }
 ],
 "metadata": {
  "kernelspec": {
   "display_name": "Python 3",
   "language": "python",
   "name": "python3"
  },
  "language_info": {
   "codemirror_mode": {
    "name": "ipython",
    "version": 3
   },
   "file_extension": ".py",
   "mimetype": "text/x-python",
   "name": "python",
   "nbconvert_exporter": "python",
   "pygments_lexer": "ipython3",
   "version": "3.9.4"
  }
 },
 "nbformat": 4,
 "nbformat_minor": 5
}
