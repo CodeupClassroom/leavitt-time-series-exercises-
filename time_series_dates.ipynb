{
 "cells": [
  {
   "cell_type": "markdown",
   "id": "0bd4b293",
   "metadata": {},
   "source": [
    "# Working With Dates in Pandas"
   ]
  },
  {
   "cell_type": "code",
   "execution_count": null,
   "id": "3b663bc1",
   "metadata": {},
   "outputs": [],
   "source": [
    "import pandas as pd\n",
    "import numpy as np\n",
    "\n",
    "import matplotlib.pyplot as plt"
   ]
  },
  {
   "cell_type": "markdown",
   "id": "d35063db",
   "metadata": {},
   "source": [
    "## Create your own date"
   ]
  },
  {
   "cell_type": "code",
   "execution_count": null,
   "id": "21e8bec3",
   "metadata": {},
   "outputs": [],
   "source": [
    "#import datetime\n"
   ]
  },
  {
   "cell_type": "code",
   "execution_count": null,
   "id": "c46d4c8c",
   "metadata": {},
   "outputs": [],
   "source": [
    "#calculate now\n"
   ]
  },
  {
   "cell_type": "code",
   "execution_count": null,
   "id": "2a5853ad",
   "metadata": {},
   "outputs": [],
   "source": [
    "#display datatype\n"
   ]
  },
  {
   "cell_type": "code",
   "execution_count": null,
   "id": "5ff64553",
   "metadata": {},
   "outputs": [],
   "source": [
    "#manually set date with (year, month, day)\n"
   ]
  },
  {
   "cell_type": "code",
   "execution_count": null,
   "id": "f37ca096",
   "metadata": {},
   "outputs": [],
   "source": [
    "#display datatype\n"
   ]
  },
  {
   "cell_type": "markdown",
   "id": "68a00d42",
   "metadata": {},
   "source": [
    "## Transform to date format"
   ]
  },
  {
   "cell_type": "markdown",
   "id": "7e0c1c75",
   "metadata": {},
   "source": [
    "### One date"
   ]
  },
  {
   "cell_type": "code",
   "execution_count": null,
   "id": "fa5886a1",
   "metadata": {},
   "outputs": [],
   "source": [
    "date = 'Jan 1 1970'"
   ]
  },
  {
   "cell_type": "code",
   "execution_count": null,
   "id": "4a2302c1",
   "metadata": {},
   "outputs": [],
   "source": [
    "#display datatype\n"
   ]
  },
  {
   "cell_type": "code",
   "execution_count": null,
   "id": "bc307495",
   "metadata": {},
   "outputs": [],
   "source": [
    "#use pd.to_datetime() to convert\n"
   ]
  },
  {
   "cell_type": "code",
   "execution_count": null,
   "id": "a9b843f7",
   "metadata": {},
   "outputs": [],
   "source": [
    "#display datatype\n"
   ]
  },
  {
   "cell_type": "markdown",
   "id": "60ba892c",
   "metadata": {},
   "source": [
    "### One date, but confuse pandas"
   ]
  },
  {
   "cell_type": "code",
   "execution_count": null,
   "id": "9b451398",
   "metadata": {},
   "outputs": [],
   "source": [
    "date = 'Jan:7:1970'"
   ]
  },
  {
   "cell_type": "code",
   "execution_count": null,
   "id": "ebe4c6a3",
   "metadata": {},
   "outputs": [],
   "source": [
    "#display datatype\n"
   ]
  },
  {
   "cell_type": "code",
   "execution_count": null,
   "id": "dee0f04c",
   "metadata": {},
   "outputs": [],
   "source": [
    "#use pd.to_datetime() to convert\n"
   ]
  },
  {
   "cell_type": "markdown",
   "id": "aac3b3d9",
   "metadata": {},
   "source": [
    "We can fix this error using the `format` argument.\n",
    "\n",
    "For info on formatting: https://docs.python.org/3/library/datetime.html#strftime-and-strptime-behavior"
   ]
  },
  {
   "cell_type": "code",
   "execution_count": null,
   "id": "90c03762",
   "metadata": {},
   "outputs": [],
   "source": [
    "#use format arguement\n"
   ]
  },
  {
   "cell_type": "markdown",
   "id": "083223cd",
   "metadata": {},
   "source": [
    "### Now a whole columns of dates"
   ]
  },
  {
   "cell_type": "code",
   "execution_count": null,
   "id": "0f3c4084",
   "metadata": {},
   "outputs": [],
   "source": [
    "url = \"https://gist.githubusercontent.com/ryanorsinger/\\\n",
    "b309f8db19e0ca71b213d4877d835e77/raw/f5841017310e2f4ca070b313529ceec2375336ba/coffee_consumption.csv\"\n",
    "df = pd.read_csv(url)"
   ]
  },
  {
   "cell_type": "code",
   "execution_count": null,
   "id": "f18ebe63",
   "metadata": {},
   "outputs": [],
   "source": [
    "#look at data\n"
   ]
  },
  {
   "cell_type": "code",
   "execution_count": null,
   "id": "262dfb6d",
   "metadata": {},
   "outputs": [],
   "source": [
    "#look at datatypes\n"
   ]
  },
  {
   "cell_type": "code",
   "execution_count": null,
   "id": "36406921",
   "metadata": {},
   "outputs": [],
   "source": [
    "#use pd.to_datetime() to convert\n"
   ]
  },
  {
   "cell_type": "code",
   "execution_count": null,
   "id": "a8e99038",
   "metadata": {},
   "outputs": [],
   "source": [
    "#can also use .astype() to convert\n"
   ]
  },
  {
   "cell_type": "code",
   "execution_count": null,
   "id": "4e4b41b3",
   "metadata": {},
   "outputs": [],
   "source": []
  },
  {
   "cell_type": "code",
   "execution_count": null,
   "id": "166b1779",
   "metadata": {},
   "outputs": [],
   "source": [
    "#look at datatypes\n"
   ]
  },
  {
   "cell_type": "markdown",
   "id": "f4cb6687",
   "metadata": {},
   "source": [
    "## Now that they are in a date format, let's manipulate them"
   ]
  },
  {
   "cell_type": "code",
   "execution_count": null,
   "id": "b6c43fda",
   "metadata": {},
   "outputs": [],
   "source": []
  },
  {
   "cell_type": "markdown",
   "id": "398625b7",
   "metadata": {},
   "source": [
    "### use `.dt` to extract pieces of the date"
   ]
  },
  {
   "cell_type": "markdown",
   "id": "f088271e",
   "metadata": {},
   "source": [
    "the documentation: https://pandas.pydata.org/docs/reference/api/pandas.DatetimeIndex.html"
   ]
  },
  {
   "cell_type": "code",
   "execution_count": null,
   "id": "d036e05e",
   "metadata": {},
   "outputs": [],
   "source": []
  },
  {
   "cell_type": "code",
   "execution_count": null,
   "id": "fec3c6f8",
   "metadata": {},
   "outputs": [],
   "source": []
  },
  {
   "cell_type": "markdown",
   "id": "a3070f91",
   "metadata": {},
   "source": [
    "### we can add them back to our initial dataframe"
   ]
  },
  {
   "cell_type": "code",
   "execution_count": null,
   "id": "b2bd9785",
   "metadata": {},
   "outputs": [],
   "source": [
    "#add them all\n"
   ]
  },
  {
   "cell_type": "code",
   "execution_count": null,
   "id": "07628086",
   "metadata": {},
   "outputs": [],
   "source": []
  },
  {
   "cell_type": "markdown",
   "id": "a994eba1",
   "metadata": {},
   "source": [
    "### Reformat date using `dt.strftime()`"
   ]
  },
  {
   "cell_type": "code",
   "execution_count": null,
   "id": "11c070aa",
   "metadata": {},
   "outputs": [],
   "source": []
  },
  {
   "cell_type": "code",
   "execution_count": null,
   "id": "2e8f5aa8",
   "metadata": {},
   "outputs": [],
   "source": []
  },
  {
   "cell_type": "code",
   "execution_count": null,
   "id": "e48cee74",
   "metadata": {},
   "outputs": [],
   "source": []
  },
  {
   "cell_type": "markdown",
   "id": "33ccfd3f",
   "metadata": {},
   "source": [
    "## Time to make it more complex!"
   ]
  },
  {
   "cell_type": "code",
   "execution_count": null,
   "id": "09baca0f",
   "metadata": {},
   "outputs": [],
   "source": [
    "sheet_url = 'https://docs.google.com/spreadsheets/d/1kTrAFSrr-xP3REs0Lly0TdV4ekrHahBXLg9r5qKxmV8/edit#gid=0'\n",
    "csv_export_url = sheet_url.replace('/edit#gid=', '/export?format=csv&gid=')\n",
    "\n",
    "df = pd.read_csv(csv_export_url)\n",
    "df"
   ]
  },
  {
   "cell_type": "code",
   "execution_count": null,
   "id": "7d42a846",
   "metadata": {},
   "outputs": [],
   "source": []
  },
  {
   "cell_type": "code",
   "execution_count": null,
   "id": "98450f70",
   "metadata": {},
   "outputs": [],
   "source": [
    "#lowercase columns\n"
   ]
  },
  {
   "cell_type": "code",
   "execution_count": null,
   "id": "e631c5e5",
   "metadata": {},
   "outputs": [],
   "source": []
  },
  {
   "cell_type": "markdown",
   "id": "ee22f002",
   "metadata": {},
   "source": [
    "#### let's plot the our close value"
   ]
  },
  {
   "cell_type": "code",
   "execution_count": null,
   "id": "b4c374b5",
   "metadata": {},
   "outputs": [],
   "source": [
    "# plt.figure(figsize=(12,8))\n",
    "\n",
    "\n",
    "# plt.title('the close values on a plot')\n",
    "# plt.show()"
   ]
  },
  {
   "cell_type": "markdown",
   "id": "c1fa5e63",
   "metadata": {},
   "source": [
    "> when we plot a single series using .plot(), the x-axis is the index value"
   ]
  },
  {
   "cell_type": "markdown",
   "id": "b8dca0e8",
   "metadata": {},
   "source": [
    "## How do we make pandas time aware for time analysis?\n",
    "\n",
    "1. Convert 'date/time' column to datetime object in Pandas (pd.to_datetime())\n",
    "2. Set the datetime column as index\n",
    "3. Sort the datetime index"
   ]
  },
  {
   "cell_type": "markdown",
   "id": "ddf4677a",
   "metadata": {},
   "source": [
    "### 1. Convert to datetime"
   ]
  },
  {
   "cell_type": "code",
   "execution_count": null,
   "id": "6a75e435",
   "metadata": {},
   "outputs": [],
   "source": []
  },
  {
   "cell_type": "code",
   "execution_count": null,
   "id": "25d8413c",
   "metadata": {},
   "outputs": [],
   "source": []
  },
  {
   "cell_type": "code",
   "execution_count": null,
   "id": "bae9481b",
   "metadata": {},
   "outputs": [],
   "source": []
  },
  {
   "cell_type": "code",
   "execution_count": null,
   "id": "d6bebdd4",
   "metadata": {},
   "outputs": [],
   "source": []
  },
  {
   "cell_type": "code",
   "execution_count": null,
   "id": "708aedd1",
   "metadata": {},
   "outputs": [],
   "source": []
  },
  {
   "cell_type": "markdown",
   "id": "1d8aa922",
   "metadata": {},
   "source": [
    "> format argument allows us to tell pandas the makeup of our date, so it can be understood"
   ]
  },
  {
   "cell_type": "code",
   "execution_count": null,
   "id": "f5bc6da9",
   "metadata": {},
   "outputs": [],
   "source": []
  },
  {
   "cell_type": "code",
   "execution_count": null,
   "id": "e774bdd5",
   "metadata": {},
   "outputs": [],
   "source": []
  },
  {
   "cell_type": "markdown",
   "id": "d3448c90",
   "metadata": {},
   "source": [
    "### 2. Set the datetime column as Index"
   ]
  },
  {
   "cell_type": "code",
   "execution_count": null,
   "id": "6d163804",
   "metadata": {},
   "outputs": [],
   "source": []
  },
  {
   "cell_type": "code",
   "execution_count": null,
   "id": "23c93164",
   "metadata": {},
   "outputs": [],
   "source": []
  },
  {
   "cell_type": "markdown",
   "id": "7ef691fe",
   "metadata": {},
   "source": [
    "### 3. Sort the datetime index"
   ]
  },
  {
   "cell_type": "code",
   "execution_count": null,
   "id": "f57881ad",
   "metadata": {},
   "outputs": [],
   "source": []
  },
  {
   "cell_type": "code",
   "execution_count": null,
   "id": "2b7997b8",
   "metadata": {},
   "outputs": [],
   "source": []
  },
  {
   "cell_type": "markdown",
   "id": "020b0dce",
   "metadata": {},
   "source": [
    "#### Now let's plot it again!"
   ]
  },
  {
   "cell_type": "code",
   "execution_count": null,
   "id": "4a084ca6",
   "metadata": {},
   "outputs": [],
   "source": [
    "# plt.figure(figsize=(12,8))\n",
    "\n",
    "\n",
    "\n",
    "# plt.title('the close value over time')\n",
    "# plt.show()"
   ]
  },
  {
   "cell_type": "markdown",
   "id": "59fa0a49",
   "metadata": {},
   "source": [
    "## Let's look at the the mean close value on each day of the week"
   ]
  },
  {
   "cell_type": "code",
   "execution_count": null,
   "id": "a3c6d711",
   "metadata": {},
   "outputs": [],
   "source": []
  },
  {
   "cell_type": "code",
   "execution_count": null,
   "id": "a5a27a32",
   "metadata": {},
   "outputs": [],
   "source": [
    "#pull out weekday name & save\n"
   ]
  },
  {
   "cell_type": "code",
   "execution_count": null,
   "id": "a379608c",
   "metadata": {},
   "outputs": [],
   "source": []
  },
  {
   "cell_type": "code",
   "execution_count": null,
   "id": "7958df6e",
   "metadata": {},
   "outputs": [],
   "source": []
  },
  {
   "cell_type": "code",
   "execution_count": null,
   "id": "0ec81798",
   "metadata": {},
   "outputs": [],
   "source": []
  },
  {
   "cell_type": "code",
   "execution_count": null,
   "id": "05a44baf",
   "metadata": {},
   "outputs": [],
   "source": []
  },
  {
   "cell_type": "markdown",
   "id": "62971f2c",
   "metadata": {},
   "source": [
    "#### let's plot it!"
   ]
  },
  {
   "cell_type": "code",
   "execution_count": null,
   "id": "98ed68b1",
   "metadata": {},
   "outputs": [],
   "source": [
    "# plt.figure(figsize=(10,6))\n",
    "\n",
    "\n",
    "# plt.title('the mean close value each day of the week')\n",
    "# plt.show()"
   ]
  },
  {
   "cell_type": "markdown",
   "id": "566f020b",
   "metadata": {},
   "source": [
    "### But Misty, I don't like that the days aren't in order"
   ]
  },
  {
   "cell_type": "code",
   "execution_count": null,
   "id": "d00fb2f3",
   "metadata": {},
   "outputs": [],
   "source": [
    "#use dayofweek attribute\n"
   ]
  },
  {
   "cell_type": "code",
   "execution_count": null,
   "id": "6068791e",
   "metadata": {},
   "outputs": [],
   "source": []
  },
  {
   "cell_type": "code",
   "execution_count": null,
   "id": "2f26f4e9",
   "metadata": {},
   "outputs": [],
   "source": []
  },
  {
   "cell_type": "markdown",
   "id": "2cabb4d3",
   "metadata": {},
   "source": [
    "#### let's plot it better this time!"
   ]
  },
  {
   "cell_type": "code",
   "execution_count": null,
   "id": "956f3bb0",
   "metadata": {},
   "outputs": [],
   "source": [
    "# plt.figure(figsize=(10,6))\n",
    "\n",
    "# plt.title('the mean close value each day of the week')\n",
    "# plt.show()"
   ]
  },
  {
   "cell_type": "markdown",
   "id": "0c094f97",
   "metadata": {},
   "source": [
    "## How do we get a subset of the dataframe?"
   ]
  },
  {
   "cell_type": "code",
   "execution_count": null,
   "id": "76ef21e6",
   "metadata": {},
   "outputs": [],
   "source": [
    "#one yall already know \n"
   ]
  },
  {
   "cell_type": "code",
   "execution_count": null,
   "id": "ea6bae23",
   "metadata": {},
   "outputs": [],
   "source": [
    "#single .loc value\n"
   ]
  },
  {
   "cell_type": "markdown",
   "id": "b7cc9be0",
   "metadata": {},
   "source": [
    "> `.loc` lets you send an index value and then it will give you the corresponding rows"
   ]
  },
  {
   "cell_type": "code",
   "execution_count": null,
   "id": "8975b40f",
   "metadata": {},
   "outputs": [],
   "source": [
    "#range of .loc values\n"
   ]
  },
  {
   "cell_type": "code",
   "execution_count": null,
   "id": "8db8909c",
   "metadata": {},
   "outputs": [],
   "source": [
    "#using .loc for one year\n"
   ]
  },
  {
   "cell_type": "markdown",
   "id": "b17c4153",
   "metadata": {},
   "source": [
    "## What if we want a different period of data?"
   ]
  },
  {
   "cell_type": "code",
   "execution_count": null,
   "id": "61667511",
   "metadata": {},
   "outputs": [],
   "source": [
    "#drop extra columns\n"
   ]
  },
  {
   "cell_type": "markdown",
   "id": "a16bb224",
   "metadata": {},
   "source": [
    "### Downsampling: reduce frequency"
   ]
  },
  {
   "cell_type": "markdown",
   "id": "35fd9070",
   "metadata": {},
   "source": [
    "use `asfreq` to change the period"
   ]
  },
  {
   "cell_type": "code",
   "execution_count": null,
   "id": "2fc5c923",
   "metadata": {},
   "outputs": [],
   "source": [
    "#set frequency to daily\n"
   ]
  },
  {
   "cell_type": "code",
   "execution_count": null,
   "id": "2172775c",
   "metadata": {},
   "outputs": [],
   "source": [
    "#set frequency to monthly\n"
   ]
  },
  {
   "cell_type": "markdown",
   "id": "fa5132f9",
   "metadata": {},
   "source": [
    "#### let's plot it by month!"
   ]
  },
  {
   "cell_type": "code",
   "execution_count": null,
   "id": "810710f0",
   "metadata": {},
   "outputs": [],
   "source": [
    "# plt.figure(figsize=(10,8))\n",
    "\n",
    "# plt.title('close resampled by month')\n",
    "# plt.show()"
   ]
  },
  {
   "cell_type": "markdown",
   "id": "9194dc2a",
   "metadata": {},
   "source": [
    "#### What if I want the first day of the month?\n",
    "\n",
    "[Pandas asfreq Offset Aliases](https://pandas.pydata.org/pandas-docs/stable/user_guide/timeseries.html#offset-aliases)\n",
    "\n",
    "[Pandas asfreq Anchored Offsets](https://pandas.pydata.org/pandas-docs/stable/user_guide/timeseries.html#anchored-offsets)"
   ]
  },
  {
   "cell_type": "code",
   "execution_count": null,
   "id": "085641bc",
   "metadata": {},
   "outputs": [],
   "source": [
    "#set to first day of the month\n"
   ]
  },
  {
   "cell_type": "markdown",
   "id": "a3df88cf",
   "metadata": {},
   "source": [
    "#### let's plot it!"
   ]
  },
  {
   "cell_type": "code",
   "execution_count": null,
   "id": "ba3a4e53",
   "metadata": {},
   "outputs": [],
   "source": [
    "# plt.figure(figsize=(14,10))\n",
    "\n",
    "# plt.title('close resampled by month')\n",
    "# plt.legend()\n",
    "# plt.show()"
   ]
  },
  {
   "cell_type": "markdown",
   "id": "1330d877",
   "metadata": {},
   "source": [
    "### Upsampling: Increase frequency"
   ]
  },
  {
   "cell_type": "code",
   "execution_count": null,
   "id": "73d854c6",
   "metadata": {},
   "outputs": [],
   "source": []
  },
  {
   "cell_type": "code",
   "execution_count": null,
   "id": "f8e49c13",
   "metadata": {},
   "outputs": [],
   "source": [
    "#set frequency to minutes\n"
   ]
  },
  {
   "cell_type": "markdown",
   "id": "81c5af55",
   "metadata": {},
   "source": [
    "> generates null for values we don't have, but we can fill them!"
   ]
  },
  {
   "cell_type": "code",
   "execution_count": null,
   "id": "35ee62fe",
   "metadata": {},
   "outputs": [],
   "source": [
    "#use ffill method\n"
   ]
  },
  {
   "cell_type": "code",
   "execution_count": null,
   "id": "d3e106f3",
   "metadata": {},
   "outputs": [],
   "source": [
    "# use bfill method\n"
   ]
  },
  {
   "cell_type": "markdown",
   "id": "8bc1eb54",
   "metadata": {},
   "source": [
    "### Resampling - Aggregating over time"
   ]
  },
  {
   "cell_type": "code",
   "execution_count": null,
   "id": "28106877",
   "metadata": {},
   "outputs": [],
   "source": []
  },
  {
   "cell_type": "code",
   "execution_count": null,
   "id": "9187e2b1",
   "metadata": {},
   "outputs": [],
   "source": [
    "#get the daily mean\n"
   ]
  },
  {
   "cell_type": "markdown",
   "id": "dacadffa",
   "metadata": {},
   "source": [
    "#### let's plot it!"
   ]
  },
  {
   "cell_type": "code",
   "execution_count": null,
   "id": "54b394fa",
   "metadata": {},
   "outputs": [],
   "source": [
    "# plt.figure(figsize=(14,10))\n",
    "\n",
    "\n",
    "# plt.title('plotting close over time with various resampling techniques')\n",
    "# plt.legend()\n",
    "# plt.show()"
   ]
  },
  {
   "cell_type": "markdown",
   "id": "02af364c",
   "metadata": {},
   "source": [
    "### Rolling averages"
   ]
  },
  {
   "cell_type": "markdown",
   "id": "3c62c171",
   "metadata": {},
   "source": [
    "- Generally used to smooth out short-term fluctuations in time series data and highlight long-term trends\n",
    "- use `rolling()` to calculate"
   ]
  },
  {
   "cell_type": "code",
   "execution_count": null,
   "id": "2e8f39ac",
   "metadata": {},
   "outputs": [],
   "source": [
    "#define df resampled daily with the mean\n"
   ]
  },
  {
   "cell_type": "code",
   "execution_count": null,
   "id": "70d98111",
   "metadata": {},
   "outputs": [],
   "source": [
    "#use the rolling function\n"
   ]
  },
  {
   "cell_type": "code",
   "execution_count": null,
   "id": "4b9337de",
   "metadata": {},
   "outputs": [],
   "source": []
  },
  {
   "cell_type": "markdown",
   "id": "6ef2a9d2",
   "metadata": {},
   "source": [
    "> the rolling average is the previous number of units averaged together  \n",
    "> in this example, the rolling average on 2017-07-05 is the average of 2017-07-01 - 2017-07-05"
   ]
  },
  {
   "cell_type": "code",
   "execution_count": null,
   "id": "611c144f",
   "metadata": {},
   "outputs": [],
   "source": []
  },
  {
   "cell_type": "markdown",
   "id": "1989b057",
   "metadata": {},
   "source": [
    "#### let's plot it!"
   ]
  },
  {
   "cell_type": "code",
   "execution_count": null,
   "id": "63450e58",
   "metadata": {},
   "outputs": [],
   "source": [
    "# plt.figure(figsize=(12,8))\n",
    "\n",
    "#original granularity\n",
    "\n",
    "#resample by week and look at 4 weeks \n",
    "\n",
    "#resample by week and look at 12 weeks \n",
    "\n",
    "# plt.legend()\n",
    "# plt.title('original vs rolling averages')\n",
    "# plt.show()"
   ]
  },
  {
   "cell_type": "markdown",
   "id": "673b9a94",
   "metadata": {},
   "source": [
    "### How about Lagging or Leading the data?\n",
    "\n",
    "* `.shift`: move the data backwards and forwards by a given amount\n",
    "* `.diff`: find the difference with the previous observation (or a specified further back observation)"
   ]
  },
  {
   "cell_type": "code",
   "execution_count": null,
   "id": "a8b00eab",
   "metadata": {},
   "outputs": [],
   "source": []
  },
  {
   "cell_type": "code",
   "execution_count": null,
   "id": "f3e56c69",
   "metadata": {},
   "outputs": [],
   "source": [
    "#shift by one\n"
   ]
  },
  {
   "cell_type": "code",
   "execution_count": null,
   "id": "96cce0b8",
   "metadata": {},
   "outputs": [],
   "source": [
    "#shift by negative 1\n"
   ]
  },
  {
   "cell_type": "code",
   "execution_count": null,
   "id": "04d7fd80",
   "metadata": {},
   "outputs": [],
   "source": [
    "#difference by one\n"
   ]
  },
  {
   "cell_type": "code",
   "execution_count": null,
   "id": "2a8d063f",
   "metadata": {},
   "outputs": [],
   "source": []
  },
  {
   "cell_type": "code",
   "execution_count": null,
   "id": "23bb2ca6",
   "metadata": {},
   "outputs": [],
   "source": []
  },
  {
   "cell_type": "code",
   "execution_count": null,
   "id": "3b6983db",
   "metadata": {},
   "outputs": [],
   "source": [
    "#subtract shift by one from close\n"
   ]
  },
  {
   "cell_type": "code",
   "execution_count": null,
   "id": "4557a5ca",
   "metadata": {},
   "outputs": [],
   "source": []
  },
  {
   "cell_type": "markdown",
   "id": "8e75c3ba",
   "metadata": {},
   "source": [
    "## Timezones"
   ]
  },
  {
   "cell_type": "markdown",
   "id": "a6cacdb4",
   "metadata": {},
   "source": [
    "#### use `tz_localize(\"UTC\")` to set timezone"
   ]
  },
  {
   "cell_type": "code",
   "execution_count": null,
   "id": "e16a8fd4",
   "metadata": {},
   "outputs": [],
   "source": []
  },
  {
   "cell_type": "markdown",
   "id": "8bd34432",
   "metadata": {},
   "source": [
    "#### use `tz_convert` to change timezones "
   ]
  },
  {
   "cell_type": "code",
   "execution_count": null,
   "id": "4a2e0bb2",
   "metadata": {},
   "outputs": [],
   "source": [
    "#convert to 'America/Chicago'\n"
   ]
  },
  {
   "cell_type": "markdown",
   "id": "8adca898",
   "metadata": {},
   "source": [
    "#### extract timezone"
   ]
  },
  {
   "cell_type": "code",
   "execution_count": null,
   "id": "ddc86446",
   "metadata": {},
   "outputs": [],
   "source": []
  },
  {
   "cell_type": "markdown",
   "id": "d56a5cc4",
   "metadata": {},
   "source": [
    "#### use .tz_localize(tz=None) to remove timezone "
   ]
  },
  {
   "cell_type": "code",
   "execution_count": null,
   "id": "e5ce66ac",
   "metadata": {},
   "outputs": [],
   "source": []
  },
  {
   "cell_type": "markdown",
   "id": "d68f7ee7",
   "metadata": {},
   "source": [
    "## Timedelta"
   ]
  },
  {
   "cell_type": "markdown",
   "id": "4d00cc09",
   "metadata": {},
   "source": [
    "#### use timedelta to alter a date"
   ]
  },
  {
   "cell_type": "code",
   "execution_count": null,
   "id": "a5a3f0cd",
   "metadata": {},
   "outputs": [],
   "source": [
    "#set todays date using datetime\n"
   ]
  },
  {
   "cell_type": "code",
   "execution_count": null,
   "id": "bde5d2d8",
   "metadata": {},
   "outputs": [],
   "source": [
    "#subtract using pd.Timedelta()\n"
   ]
  },
  {
   "cell_type": "code",
   "execution_count": null,
   "id": "86de2a84",
   "metadata": {},
   "outputs": [],
   "source": []
  },
  {
   "cell_type": "code",
   "execution_count": null,
   "id": "9c9af6a3",
   "metadata": {},
   "outputs": [],
   "source": [
    "#add\n"
   ]
  },
  {
   "cell_type": "markdown",
   "id": "74cd8b3f",
   "metadata": {},
   "source": [
    "#### subtract two dates"
   ]
  },
  {
   "cell_type": "code",
   "execution_count": null,
   "id": "143f5a1c",
   "metadata": {},
   "outputs": [],
   "source": []
  },
  {
   "cell_type": "code",
   "execution_count": null,
   "id": "6092fd23",
   "metadata": {},
   "outputs": [],
   "source": []
  }
 ],
 "metadata": {
  "kernelspec": {
   "display_name": "Python 3 (ipykernel)",
   "language": "python",
   "name": "python3"
  },
  "language_info": {
   "codemirror_mode": {
    "name": "ipython",
    "version": 3
   },
   "file_extension": ".py",
   "mimetype": "text/x-python",
   "name": "python",
   "nbconvert_exporter": "python",
   "pygments_lexer": "ipython3",
   "version": "3.9.12"
  }
 },
 "nbformat": 4,
 "nbformat_minor": 5
}
